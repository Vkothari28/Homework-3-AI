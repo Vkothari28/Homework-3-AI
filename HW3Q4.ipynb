{
 "cells": [
  {
   "cell_type": "code",
   "execution_count": 1,
   "id": "cae352bf",
   "metadata": {},
   "outputs": [],
   "source": [
    "import os\n",
    "import numpy as np\n",
    "import pandas as pd"
   ]
  },
  {
   "cell_type": "code",
   "execution_count": 4,
   "id": "e7c5097b",
   "metadata": {},
   "outputs": [],
   "source": [
    "from sklearn import datasets\n",
    "from sklearn.pipeline import Pipeline\n",
    "from sklearn.preprocessing import StandardScaler\n",
    "from sklearn.svm import LinearSVC\n",
    "from sklearn.impute import SimpleImputer\n",
    "from sklearn.preprocessing import OneHotEncoder"
   ]
  },
  {
   "cell_type": "code",
   "execution_count": 5,
   "id": "a481f377",
   "metadata": {},
   "outputs": [
    {
     "name": "stderr",
     "output_type": "stream",
     "text": [
      "<ipython-input-5-7118ab3df0c9>:1: ParserWarning: Falling back to the 'python' engine because the 'c' engine does not support regex separators (separators > 1 char and different from '\\s+' are interpreted as regex); you can avoid this warning by specifying engine='python'.\n",
      "  ckd_data = pd.read_csv(\"ckd_data.csv\", error_bad_lines=False, sep=r'\\s*,\\s*')\n"
     ]
    }
   ],
   "source": [
    "ckd_data = pd.read_csv(\"ckd_data.csv\", error_bad_lines=False, sep=r'\\s*,\\s*')\n",
    "ckd_data.columns = [col[1:-1] for col in ckd_data.columns]\n",
    "ckd_data = ckd_data.iloc[:, :-1]"
   ]
  },
  {
   "cell_type": "code",
   "execution_count": 6,
   "id": "04754209",
   "metadata": {},
   "outputs": [
    {
     "data": {
      "text/html": [
       "<div>\n",
       "<style scoped>\n",
       "    .dataframe tbody tr th:only-of-type {\n",
       "        vertical-align: middle;\n",
       "    }\n",
       "\n",
       "    .dataframe tbody tr th {\n",
       "        vertical-align: top;\n",
       "    }\n",
       "\n",
       "    .dataframe thead th {\n",
       "        text-align: right;\n",
       "    }\n",
       "</style>\n",
       "<table border=\"1\" class=\"dataframe\">\n",
       "  <thead>\n",
       "    <tr style=\"text-align: right;\">\n",
       "      <th></th>\n",
       "      <th>age</th>\n",
       "      <th>bp</th>\n",
       "      <th>sg</th>\n",
       "      <th>al</th>\n",
       "      <th>su</th>\n",
       "      <th>rbc</th>\n",
       "      <th>pc</th>\n",
       "      <th>pcc</th>\n",
       "      <th>ba</th>\n",
       "      <th>bgr</th>\n",
       "      <th>...</th>\n",
       "      <th>pcv</th>\n",
       "      <th>wbcc</th>\n",
       "      <th>rbcc</th>\n",
       "      <th>htn</th>\n",
       "      <th>dm</th>\n",
       "      <th>cad</th>\n",
       "      <th>appet</th>\n",
       "      <th>pe</th>\n",
       "      <th>ane</th>\n",
       "      <th>class</th>\n",
       "    </tr>\n",
       "  </thead>\n",
       "  <tbody>\n",
       "    <tr>\n",
       "      <th>0</th>\n",
       "      <td>48</td>\n",
       "      <td>80</td>\n",
       "      <td>1.02</td>\n",
       "      <td>1</td>\n",
       "      <td>0</td>\n",
       "      <td>?</td>\n",
       "      <td>normal</td>\n",
       "      <td>notpresent</td>\n",
       "      <td>notpresent</td>\n",
       "      <td>121</td>\n",
       "      <td>...</td>\n",
       "      <td>44</td>\n",
       "      <td>7800</td>\n",
       "      <td>5.2</td>\n",
       "      <td>yes</td>\n",
       "      <td>yes</td>\n",
       "      <td>no</td>\n",
       "      <td>good</td>\n",
       "      <td>no</td>\n",
       "      <td>no</td>\n",
       "      <td>ckd</td>\n",
       "    </tr>\n",
       "    <tr>\n",
       "      <th>1</th>\n",
       "      <td>7</td>\n",
       "      <td>50</td>\n",
       "      <td>1.02</td>\n",
       "      <td>4</td>\n",
       "      <td>0</td>\n",
       "      <td>?</td>\n",
       "      <td>normal</td>\n",
       "      <td>notpresent</td>\n",
       "      <td>notpresent</td>\n",
       "      <td>?</td>\n",
       "      <td>...</td>\n",
       "      <td>38</td>\n",
       "      <td>6000</td>\n",
       "      <td>?</td>\n",
       "      <td>no</td>\n",
       "      <td>no</td>\n",
       "      <td>no</td>\n",
       "      <td>good</td>\n",
       "      <td>no</td>\n",
       "      <td>no</td>\n",
       "      <td>ckd</td>\n",
       "    </tr>\n",
       "    <tr>\n",
       "      <th>2</th>\n",
       "      <td>62</td>\n",
       "      <td>80</td>\n",
       "      <td>1.01</td>\n",
       "      <td>2</td>\n",
       "      <td>3</td>\n",
       "      <td>normal</td>\n",
       "      <td>normal</td>\n",
       "      <td>notpresent</td>\n",
       "      <td>notpresent</td>\n",
       "      <td>423</td>\n",
       "      <td>...</td>\n",
       "      <td>31</td>\n",
       "      <td>7500</td>\n",
       "      <td>?</td>\n",
       "      <td>no</td>\n",
       "      <td>yes</td>\n",
       "      <td>no</td>\n",
       "      <td>poor</td>\n",
       "      <td>no</td>\n",
       "      <td>yes</td>\n",
       "      <td>ckd</td>\n",
       "    </tr>\n",
       "    <tr>\n",
       "      <th>3</th>\n",
       "      <td>48</td>\n",
       "      <td>70</td>\n",
       "      <td>1.005</td>\n",
       "      <td>4</td>\n",
       "      <td>0</td>\n",
       "      <td>normal</td>\n",
       "      <td>abnormal</td>\n",
       "      <td>present</td>\n",
       "      <td>notpresent</td>\n",
       "      <td>117</td>\n",
       "      <td>...</td>\n",
       "      <td>32</td>\n",
       "      <td>6700</td>\n",
       "      <td>3.9</td>\n",
       "      <td>yes</td>\n",
       "      <td>no</td>\n",
       "      <td>no</td>\n",
       "      <td>poor</td>\n",
       "      <td>yes</td>\n",
       "      <td>yes</td>\n",
       "      <td>ckd</td>\n",
       "    </tr>\n",
       "    <tr>\n",
       "      <th>4</th>\n",
       "      <td>51</td>\n",
       "      <td>80</td>\n",
       "      <td>1.01</td>\n",
       "      <td>2</td>\n",
       "      <td>0</td>\n",
       "      <td>normal</td>\n",
       "      <td>normal</td>\n",
       "      <td>notpresent</td>\n",
       "      <td>notpresent</td>\n",
       "      <td>106</td>\n",
       "      <td>...</td>\n",
       "      <td>35</td>\n",
       "      <td>7300</td>\n",
       "      <td>4.6</td>\n",
       "      <td>no</td>\n",
       "      <td>no</td>\n",
       "      <td>no</td>\n",
       "      <td>good</td>\n",
       "      <td>no</td>\n",
       "      <td>no</td>\n",
       "      <td>ckd</td>\n",
       "    </tr>\n",
       "  </tbody>\n",
       "</table>\n",
       "<p>5 rows × 25 columns</p>\n",
       "</div>"
      ],
      "text/plain": [
       "  age  bp     sg al su     rbc        pc         pcc          ba  bgr  ...  \\\n",
       "0  48  80   1.02  1  0       ?    normal  notpresent  notpresent  121  ...   \n",
       "1   7  50   1.02  4  0       ?    normal  notpresent  notpresent    ?  ...   \n",
       "2  62  80   1.01  2  3  normal    normal  notpresent  notpresent  423  ...   \n",
       "3  48  70  1.005  4  0  normal  abnormal     present  notpresent  117  ...   \n",
       "4  51  80   1.01  2  0  normal    normal  notpresent  notpresent  106  ...   \n",
       "\n",
       "  pcv  wbcc rbcc  htn   dm cad appet   pe  ane class  \n",
       "0  44  7800  5.2  yes  yes  no  good   no   no   ckd  \n",
       "1  38  6000    ?   no   no  no  good   no   no   ckd  \n",
       "2  31  7500    ?   no  yes  no  poor   no  yes   ckd  \n",
       "3  32  6700  3.9  yes   no  no  poor  yes  yes   ckd  \n",
       "4  35  7300  4.6   no   no  no  good   no   no   ckd  \n",
       "\n",
       "[5 rows x 25 columns]"
      ]
     },
     "execution_count": 6,
     "metadata": {},
     "output_type": "execute_result"
    }
   ],
   "source": [
    "ckd_data.head()"
   ]
  },
  {
   "cell_type": "code",
   "execution_count": 7,
   "id": "8e25045a",
   "metadata": {},
   "outputs": [
    {
     "name": "stdout",
     "output_type": "stream",
     "text": [
      "   age  bp    sg al su       rbc      pc         pcc          ba  bgr  ...  \\\n",
      "66  67  70  1.02  2  0  abnormal  normal  notpresent  notpresent  150  ...   \n",
      "\n",
      "   pcv wbcc rbcc  htn   dm cad appet   pe ane class  \n",
      "66   ?    ?    ?  yes  yes  no  good  yes  no   ckd  \n",
      "\n",
      "[1 rows x 25 columns]\n"
     ]
    }
   ],
   "source": [
    "print(ckd_data.loc[[66]])"
   ]
  },
  {
   "cell_type": "code",
   "execution_count": 37,
   "id": "4d5929a0",
   "metadata": {},
   "outputs": [
    {
     "name": "stdout",
     "output_type": "stream",
     "text": [
      "age              67\n",
      "bp               70\n",
      "sg             1.02\n",
      "al                2\n",
      "su                0\n",
      "rbc        abnormal\n",
      "pc           normal\n",
      "pcc      notpresent\n",
      "ba       notpresent\n",
      "bgr             150\n",
      "bu               55\n",
      "sc              1.6\n",
      "sod             131\n",
      "pot             4.8\n",
      "hemo            Nan\n",
      "pcv             Nan\n",
      "wbcc            Nan\n",
      "rbcc            Nan\n",
      "htn             yes\n",
      "dm              yes\n",
      "cad              no\n",
      "appet          good\n",
      "pe              yes\n",
      "ane              no\n",
      "class           ckd\n",
      "Name: 66, dtype: object\n"
     ]
    }
   ],
   "source": [
    "ckd_data = ckd_data.replace(to_replace='?', value='Nan')\n",
    "print(ckd_data.loc[66])"
   ]
  },
  {
   "cell_type": "code",
   "execution_count": 9,
   "id": "1d9a6327",
   "metadata": {},
   "outputs": [
    {
     "name": "stdout",
     "output_type": "stream",
     "text": [
      "<class 'pandas.core.frame.DataFrame'>\n",
      "RangeIndex: 400 entries, 0 to 399\n",
      "Data columns (total 25 columns):\n",
      " #   Column  Non-Null Count  Dtype \n",
      "---  ------  --------------  ----- \n",
      " 0   age     400 non-null    object\n",
      " 1   bp      400 non-null    object\n",
      " 2   sg      400 non-null    object\n",
      " 3   al      400 non-null    object\n",
      " 4   su      400 non-null    object\n",
      " 5   rbc     400 non-null    object\n",
      " 6   pc      400 non-null    object\n",
      " 7   pcc     400 non-null    object\n",
      " 8   ba      400 non-null    object\n",
      " 9   bgr     400 non-null    object\n",
      " 10  bu      400 non-null    object\n",
      " 11  sc      400 non-null    object\n",
      " 12  sod     400 non-null    object\n",
      " 13  pot     400 non-null    object\n",
      " 14  hemo    400 non-null    object\n",
      " 15  pcv     400 non-null    object\n",
      " 16  wbcc    400 non-null    object\n",
      " 17  rbcc    400 non-null    object\n",
      " 18  htn     400 non-null    object\n",
      " 19  dm      399 non-null    object\n",
      " 20  cad     400 non-null    object\n",
      " 21  appet   400 non-null    object\n",
      " 22  pe      400 non-null    object\n",
      " 23  ane     400 non-null    object\n",
      " 24  class   400 non-null    object\n",
      "dtypes: object(25)\n",
      "memory usage: 78.2+ KB\n"
     ]
    }
   ],
   "source": [
    "ckd_data.info()"
   ]
  },
  {
   "cell_type": "code",
   "execution_count": 10,
   "id": "e4190fef",
   "metadata": {},
   "outputs": [],
   "source": [
    "from sklearn.model_selection import train_test_split\n",
    "ckd_train_data, ckd_test_data = train_test_split(ckd_data, test_size=0.2, random_state=42)"
   ]
  },
  {
   "cell_type": "code",
   "execution_count": 11,
   "id": "04ab1409",
   "metadata": {},
   "outputs": [
    {
     "data": {
      "text/plain": [
       "3         ckd\n",
       "18        ckd\n",
       "202       ckd\n",
       "250    notckd\n",
       "274    notckd\n",
       "Name: class, dtype: object"
      ]
     },
     "execution_count": 11,
     "metadata": {},
     "output_type": "execute_result"
    }
   ],
   "source": [
    "# Separate out the labels\n",
    "ckd_train_data_label = ckd_train_data['class'].copy()\n",
    "ckd_test_data_label = ckd_test_data['class'].copy()\n",
    "ckd_train_data_label.head()"
   ]
  },
  {
   "cell_type": "code",
   "execution_count": 12,
   "id": "50fdf8ba",
   "metadata": {},
   "outputs": [
    {
     "data": {
      "text/html": [
       "<div>\n",
       "<style scoped>\n",
       "    .dataframe tbody tr th:only-of-type {\n",
       "        vertical-align: middle;\n",
       "    }\n",
       "\n",
       "    .dataframe tbody tr th {\n",
       "        vertical-align: top;\n",
       "    }\n",
       "\n",
       "    .dataframe thead th {\n",
       "        text-align: right;\n",
       "    }\n",
       "</style>\n",
       "<table border=\"1\" class=\"dataframe\">\n",
       "  <thead>\n",
       "    <tr style=\"text-align: right;\">\n",
       "      <th></th>\n",
       "      <th>age</th>\n",
       "      <th>bp</th>\n",
       "      <th>sg</th>\n",
       "      <th>al</th>\n",
       "      <th>su</th>\n",
       "      <th>rbc</th>\n",
       "      <th>pc</th>\n",
       "      <th>pcc</th>\n",
       "      <th>ba</th>\n",
       "      <th>bgr</th>\n",
       "      <th>...</th>\n",
       "      <th>hemo</th>\n",
       "      <th>pcv</th>\n",
       "      <th>wbcc</th>\n",
       "      <th>rbcc</th>\n",
       "      <th>htn</th>\n",
       "      <th>dm</th>\n",
       "      <th>cad</th>\n",
       "      <th>appet</th>\n",
       "      <th>pe</th>\n",
       "      <th>ane</th>\n",
       "    </tr>\n",
       "  </thead>\n",
       "  <tbody>\n",
       "    <tr>\n",
       "      <th>3</th>\n",
       "      <td>48</td>\n",
       "      <td>70</td>\n",
       "      <td>1.005</td>\n",
       "      <td>4</td>\n",
       "      <td>0</td>\n",
       "      <td>normal</td>\n",
       "      <td>abnormal</td>\n",
       "      <td>present</td>\n",
       "      <td>notpresent</td>\n",
       "      <td>117</td>\n",
       "      <td>...</td>\n",
       "      <td>11.2</td>\n",
       "      <td>32</td>\n",
       "      <td>6700</td>\n",
       "      <td>3.9</td>\n",
       "      <td>yes</td>\n",
       "      <td>no</td>\n",
       "      <td>no</td>\n",
       "      <td>poor</td>\n",
       "      <td>yes</td>\n",
       "      <td>yes</td>\n",
       "    </tr>\n",
       "    <tr>\n",
       "      <th>18</th>\n",
       "      <td>60</td>\n",
       "      <td>100</td>\n",
       "      <td>1.025</td>\n",
       "      <td>0</td>\n",
       "      <td>3</td>\n",
       "      <td>Nan</td>\n",
       "      <td>normal</td>\n",
       "      <td>notpresent</td>\n",
       "      <td>notpresent</td>\n",
       "      <td>263</td>\n",
       "      <td>...</td>\n",
       "      <td>12.7</td>\n",
       "      <td>37</td>\n",
       "      <td>11400</td>\n",
       "      <td>4.3</td>\n",
       "      <td>yes</td>\n",
       "      <td>yes</td>\n",
       "      <td>yes</td>\n",
       "      <td>good</td>\n",
       "      <td>no</td>\n",
       "      <td>no</td>\n",
       "    </tr>\n",
       "    <tr>\n",
       "      <th>202</th>\n",
       "      <td>78</td>\n",
       "      <td>60</td>\n",
       "      <td>Nan</td>\n",
       "      <td>Nan</td>\n",
       "      <td>Nan</td>\n",
       "      <td>Nan</td>\n",
       "      <td>Nan</td>\n",
       "      <td>notpresent</td>\n",
       "      <td>notpresent</td>\n",
       "      <td>114</td>\n",
       "      <td>...</td>\n",
       "      <td>8</td>\n",
       "      <td>24</td>\n",
       "      <td>Nan</td>\n",
       "      <td>Nan</td>\n",
       "      <td>no</td>\n",
       "      <td>yes</td>\n",
       "      <td>no</td>\n",
       "      <td>good</td>\n",
       "      <td>no</td>\n",
       "      <td>yes</td>\n",
       "    </tr>\n",
       "    <tr>\n",
       "      <th>250</th>\n",
       "      <td>40</td>\n",
       "      <td>80</td>\n",
       "      <td>1.025</td>\n",
       "      <td>0</td>\n",
       "      <td>0</td>\n",
       "      <td>normal</td>\n",
       "      <td>normal</td>\n",
       "      <td>notpresent</td>\n",
       "      <td>notpresent</td>\n",
       "      <td>140</td>\n",
       "      <td>...</td>\n",
       "      <td>15</td>\n",
       "      <td>48</td>\n",
       "      <td>10400</td>\n",
       "      <td>4.5</td>\n",
       "      <td>no</td>\n",
       "      <td>no</td>\n",
       "      <td>no</td>\n",
       "      <td>good</td>\n",
       "      <td>no</td>\n",
       "      <td>no</td>\n",
       "    </tr>\n",
       "    <tr>\n",
       "      <th>274</th>\n",
       "      <td>19</td>\n",
       "      <td>80</td>\n",
       "      <td>1.02</td>\n",
       "      <td>0</td>\n",
       "      <td>0</td>\n",
       "      <td>normal</td>\n",
       "      <td>normal</td>\n",
       "      <td>notpresent</td>\n",
       "      <td>notpresent</td>\n",
       "      <td>107</td>\n",
       "      <td>...</td>\n",
       "      <td>14.4</td>\n",
       "      <td>44</td>\n",
       "      <td>Nan</td>\n",
       "      <td>Nan</td>\n",
       "      <td>no</td>\n",
       "      <td>no</td>\n",
       "      <td>no</td>\n",
       "      <td>good</td>\n",
       "      <td>no</td>\n",
       "      <td>no</td>\n",
       "    </tr>\n",
       "  </tbody>\n",
       "</table>\n",
       "<p>5 rows × 24 columns</p>\n",
       "</div>"
      ],
      "text/plain": [
       "    age   bp     sg   al   su     rbc        pc         pcc          ba  bgr  \\\n",
       "3    48   70  1.005    4    0  normal  abnormal     present  notpresent  117   \n",
       "18   60  100  1.025    0    3     Nan    normal  notpresent  notpresent  263   \n",
       "202  78   60    Nan  Nan  Nan     Nan       Nan  notpresent  notpresent  114   \n",
       "250  40   80  1.025    0    0  normal    normal  notpresent  notpresent  140   \n",
       "274  19   80   1.02    0    0  normal    normal  notpresent  notpresent  107   \n",
       "\n",
       "     ...  hemo pcv   wbcc rbcc  htn   dm  cad appet   pe  ane  \n",
       "3    ...  11.2  32   6700  3.9  yes   no   no  poor  yes  yes  \n",
       "18   ...  12.7  37  11400  4.3  yes  yes  yes  good   no   no  \n",
       "202  ...     8  24    Nan  Nan   no  yes   no  good   no  yes  \n",
       "250  ...    15  48  10400  4.5   no   no   no  good   no   no  \n",
       "274  ...  14.4  44    Nan  Nan   no   no   no  good   no   no  \n",
       "\n",
       "[5 rows x 24 columns]"
      ]
     },
     "execution_count": 12,
     "metadata": {},
     "output_type": "execute_result"
    }
   ],
   "source": [
    "# List of Features only dataset. Drop the labels\n",
    "ckd_train_data = ckd_train_data.drop(\"class\", axis=1)\n",
    "ckd_test_data = ckd_test_data.drop(\"class\", axis=1)\n",
    "ckd_train_data.head()"
   ]
  },
  {
   "cell_type": "code",
   "execution_count": 13,
   "id": "dd110d42",
   "metadata": {},
   "outputs": [],
   "source": [
    "def impute_nan_add_variable(DataFrame,ColName):\n",
    "    #1. add new column and replace if category is null then 1 else 0\n",
    "    DataFrame[ColName+\"_Imputed\"] = np.where(DataFrame[ColName].isnull(),1,0)\n",
    "    \n",
    "    # 2. Take most occured category in that vairable (.mode())\n",
    "    Mode_Category = DataFrame[ColName].mode()[0]\n",
    "    \n",
    "    ## 2.1 Replace NAN values with most occured category in actual vairable\n",
    "    DataFrame[ColName].fillna(Mode_Category,inplace=True)"
   ]
  },
  {
   "cell_type": "code",
   "execution_count": 14,
   "id": "89cd071f",
   "metadata": {},
   "outputs": [],
   "source": [
    "# Call function to impute NAN values for categorical variables and add new importance feature\n",
    "for Columns in ['rbc','pc', 'pcc', 'ba', 'htn', 'dm', 'cad', 'appet', 'pe', 'ane']:\n",
    "    impute_nan_add_variable(ckd_train_data,Columns)"
   ]
  },
  {
   "cell_type": "code",
   "execution_count": 15,
   "id": "6b005496",
   "metadata": {},
   "outputs": [
    {
     "data": {
      "text/html": [
       "<div>\n",
       "<style scoped>\n",
       "    .dataframe tbody tr th:only-of-type {\n",
       "        vertical-align: middle;\n",
       "    }\n",
       "\n",
       "    .dataframe tbody tr th {\n",
       "        vertical-align: top;\n",
       "    }\n",
       "\n",
       "    .dataframe thead th {\n",
       "        text-align: right;\n",
       "    }\n",
       "</style>\n",
       "<table border=\"1\" class=\"dataframe\">\n",
       "  <thead>\n",
       "    <tr style=\"text-align: right;\">\n",
       "      <th></th>\n",
       "      <th>age</th>\n",
       "      <th>bp</th>\n",
       "      <th>sg</th>\n",
       "      <th>al</th>\n",
       "      <th>su</th>\n",
       "      <th>rbc</th>\n",
       "      <th>pc</th>\n",
       "      <th>pcc</th>\n",
       "      <th>ba</th>\n",
       "      <th>bgr</th>\n",
       "      <th>...</th>\n",
       "      <th>rbc_Imputed</th>\n",
       "      <th>pc_Imputed</th>\n",
       "      <th>pcc_Imputed</th>\n",
       "      <th>ba_Imputed</th>\n",
       "      <th>htn_Imputed</th>\n",
       "      <th>dm_Imputed</th>\n",
       "      <th>cad_Imputed</th>\n",
       "      <th>appet_Imputed</th>\n",
       "      <th>pe_Imputed</th>\n",
       "      <th>ane_Imputed</th>\n",
       "    </tr>\n",
       "  </thead>\n",
       "  <tbody>\n",
       "    <tr>\n",
       "      <th>3</th>\n",
       "      <td>48</td>\n",
       "      <td>70</td>\n",
       "      <td>1.005</td>\n",
       "      <td>4</td>\n",
       "      <td>0</td>\n",
       "      <td>normal</td>\n",
       "      <td>abnormal</td>\n",
       "      <td>present</td>\n",
       "      <td>notpresent</td>\n",
       "      <td>117</td>\n",
       "      <td>...</td>\n",
       "      <td>0</td>\n",
       "      <td>0</td>\n",
       "      <td>0</td>\n",
       "      <td>0</td>\n",
       "      <td>0</td>\n",
       "      <td>0</td>\n",
       "      <td>0</td>\n",
       "      <td>0</td>\n",
       "      <td>0</td>\n",
       "      <td>0</td>\n",
       "    </tr>\n",
       "    <tr>\n",
       "      <th>18</th>\n",
       "      <td>60</td>\n",
       "      <td>100</td>\n",
       "      <td>1.025</td>\n",
       "      <td>0</td>\n",
       "      <td>3</td>\n",
       "      <td>Nan</td>\n",
       "      <td>normal</td>\n",
       "      <td>notpresent</td>\n",
       "      <td>notpresent</td>\n",
       "      <td>263</td>\n",
       "      <td>...</td>\n",
       "      <td>0</td>\n",
       "      <td>0</td>\n",
       "      <td>0</td>\n",
       "      <td>0</td>\n",
       "      <td>0</td>\n",
       "      <td>0</td>\n",
       "      <td>0</td>\n",
       "      <td>0</td>\n",
       "      <td>0</td>\n",
       "      <td>0</td>\n",
       "    </tr>\n",
       "    <tr>\n",
       "      <th>202</th>\n",
       "      <td>78</td>\n",
       "      <td>60</td>\n",
       "      <td>Nan</td>\n",
       "      <td>Nan</td>\n",
       "      <td>Nan</td>\n",
       "      <td>Nan</td>\n",
       "      <td>Nan</td>\n",
       "      <td>notpresent</td>\n",
       "      <td>notpresent</td>\n",
       "      <td>114</td>\n",
       "      <td>...</td>\n",
       "      <td>0</td>\n",
       "      <td>0</td>\n",
       "      <td>0</td>\n",
       "      <td>0</td>\n",
       "      <td>0</td>\n",
       "      <td>0</td>\n",
       "      <td>0</td>\n",
       "      <td>0</td>\n",
       "      <td>0</td>\n",
       "      <td>0</td>\n",
       "    </tr>\n",
       "    <tr>\n",
       "      <th>250</th>\n",
       "      <td>40</td>\n",
       "      <td>80</td>\n",
       "      <td>1.025</td>\n",
       "      <td>0</td>\n",
       "      <td>0</td>\n",
       "      <td>normal</td>\n",
       "      <td>normal</td>\n",
       "      <td>notpresent</td>\n",
       "      <td>notpresent</td>\n",
       "      <td>140</td>\n",
       "      <td>...</td>\n",
       "      <td>0</td>\n",
       "      <td>0</td>\n",
       "      <td>0</td>\n",
       "      <td>0</td>\n",
       "      <td>0</td>\n",
       "      <td>0</td>\n",
       "      <td>0</td>\n",
       "      <td>0</td>\n",
       "      <td>0</td>\n",
       "      <td>0</td>\n",
       "    </tr>\n",
       "    <tr>\n",
       "      <th>274</th>\n",
       "      <td>19</td>\n",
       "      <td>80</td>\n",
       "      <td>1.02</td>\n",
       "      <td>0</td>\n",
       "      <td>0</td>\n",
       "      <td>normal</td>\n",
       "      <td>normal</td>\n",
       "      <td>notpresent</td>\n",
       "      <td>notpresent</td>\n",
       "      <td>107</td>\n",
       "      <td>...</td>\n",
       "      <td>0</td>\n",
       "      <td>0</td>\n",
       "      <td>0</td>\n",
       "      <td>0</td>\n",
       "      <td>0</td>\n",
       "      <td>0</td>\n",
       "      <td>0</td>\n",
       "      <td>0</td>\n",
       "      <td>0</td>\n",
       "      <td>0</td>\n",
       "    </tr>\n",
       "  </tbody>\n",
       "</table>\n",
       "<p>5 rows × 34 columns</p>\n",
       "</div>"
      ],
      "text/plain": [
       "    age   bp     sg   al   su     rbc        pc         pcc          ba  bgr  \\\n",
       "3    48   70  1.005    4    0  normal  abnormal     present  notpresent  117   \n",
       "18   60  100  1.025    0    3     Nan    normal  notpresent  notpresent  263   \n",
       "202  78   60    Nan  Nan  Nan     Nan       Nan  notpresent  notpresent  114   \n",
       "250  40   80  1.025    0    0  normal    normal  notpresent  notpresent  140   \n",
       "274  19   80   1.02    0    0  normal    normal  notpresent  notpresent  107   \n",
       "\n",
       "     ... rbc_Imputed pc_Imputed pcc_Imputed ba_Imputed htn_Imputed dm_Imputed  \\\n",
       "3    ...           0          0           0          0           0          0   \n",
       "18   ...           0          0           0          0           0          0   \n",
       "202  ...           0          0           0          0           0          0   \n",
       "250  ...           0          0           0          0           0          0   \n",
       "274  ...           0          0           0          0           0          0   \n",
       "\n",
       "    cad_Imputed appet_Imputed pe_Imputed ane_Imputed  \n",
       "3             0             0          0           0  \n",
       "18            0             0          0           0  \n",
       "202           0             0          0           0  \n",
       "250           0             0          0           0  \n",
       "274           0             0          0           0  \n",
       "\n",
       "[5 rows x 34 columns]"
      ]
     },
     "execution_count": 15,
     "metadata": {},
     "output_type": "execute_result"
    }
   ],
   "source": [
    "ckd_train_data.head()"
   ]
  },
  {
   "cell_type": "code",
   "execution_count": 16,
   "id": "4a649edd",
   "metadata": {},
   "outputs": [],
   "source": [
    "num_pipeline = Pipeline([\n",
    "    ('imputer', SimpleImputer(strategy=\"median\")),\n",
    "    ('std_scalar', StandardScaler()),\n",
    "])"
   ]
  },
  {
   "cell_type": "code",
   "execution_count": 17,
   "id": "b0b19d86",
   "metadata": {},
   "outputs": [],
   "source": [
    "ckd_train_data_numeric = ckd_train_data.drop(['rbc','pc', 'pcc', 'ba', 'htn', 'dm', 'cad', 'appet', 'pe', 'ane'], axis=1)"
   ]
  },
  {
   "cell_type": "code",
   "execution_count": 18,
   "id": "5d4431a3",
   "metadata": {},
   "outputs": [],
   "source": [
    "from sklearn.compose import ColumnTransformer\n",
    "from sklearn.preprocessing import OrdinalEncoder\n",
    "\n",
    "num_attribs = list(ckd_train_data_numeric)\n",
    "cat_attribs = ['rbc','pc', 'pcc', 'ba', 'htn', 'dm', 'cad', 'appet', 'pe', 'ane']\n",
    "\n",
    "full_pipeline = ColumnTransformer([\n",
    "    (\"num\", num_pipeline, num_attribs),\n",
    "    (\"cat\", OrdinalEncoder(), cat_attribs),\n",
    "])"
   ]
  },
  {
   "cell_type": "code",
   "execution_count": 21,
   "id": "e26b15b7",
   "metadata": {},
   "outputs": [
    {
     "name": "stdout",
     "output_type": "stream",
     "text": [
      "[[-0.1699142  -0.41503806 -2.32419215  2.41090936 -0.3775227  -0.40955203\n",
      "   0.02883762  0.18473616 -2.7211447  -0.68100449 -0.53127344 -0.95717839\n",
      "  -0.63259935 -1.04249276  0.          0.          0.          0.\n",
      "   0.          0.          0.          0.          0.          0.\n",
      "   2.          1.          2.          1.          2.          1.\n",
      "   1.          1.          1.          1.        ]\n",
      " [ 0.52126221  1.75037792  1.32159946 -0.68123892  2.56899591  1.56244333\n",
      "  -0.56414514 -0.27602434 -0.26352239 -0.10466216  0.03291074 -0.32407156\n",
      "   1.19953896 -0.55172751  0.          0.          0.          0.\n",
      "   0.          0.          0.          0.          0.          0.\n",
      "   0.          2.          1.          1.          2.          2.\n",
      "   2.          0.          0.          0.        ]\n",
      " [ 1.55802683 -1.13684339  0.41015156 -0.68123892 -0.3775227  -0.45007249\n",
      "   0.39689588  0.01886238 -0.26352239  0.40764212 -1.73486637 -1.97014931\n",
      "  -0.10634686  0.06172907  0.          0.          0.          0.\n",
      "   0.          0.          0.          0.          0.          0.\n",
      "   0.          0.          1.          1.          1.          2.\n",
      "   1.          0.          0.          1.        ]\n",
      " [-0.63069848  0.30676726  1.32159946 -0.68123892 -0.3775227  -0.09889523\n",
      "  -0.91175572 -0.29445475 -0.26352239  0.11947096  0.89799316  1.06876347\n",
      "   0.8097223  -0.30634488  0.          0.          0.          0.\n",
      "   0.          0.          0.          0.          0.          0.\n",
      "   2.          2.          1.          1.          1.          1.\n",
      "   1.          0.          0.          0.        ]\n",
      " [-1.8402572   0.30676726  0.41015156 -0.68123892 -0.3775227  -0.54462021\n",
      "  -0.64593586 -0.38660685  0.35088318 -0.13668118  0.67231949  0.562278\n",
      "  -0.10634686  0.06172907  0.          0.          0.          0.\n",
      "   0.          0.          0.          0.          0.          0.\n",
      "   2.          2.          1.          1.          1.          1.\n",
      "   1.          0.          0.          0.        ]]\n"
     ]
    }
   ],
   "source": [
    "ckd_train_data_prepared = full_pipeline.fit_transform(ckd_train_data)\n",
    "print(ckd_train_data_prepared[:5])"
   ]
  },
  {
   "cell_type": "code",
   "execution_count": 23,
   "id": "ef62437e",
   "metadata": {},
   "outputs": [
    {
     "name": "stdout",
     "output_type": "stream",
     "text": [
      "3       True\n",
      "18      True\n",
      "202     True\n",
      "250    False\n",
      "274    False\n",
      "Name: class, dtype: bool\n"
     ]
    }
   ],
   "source": [
    "ckd_train_data_binary_labels = (ckd_train_data_label == 'ckd')\n",
    "print(ckd_train_data_binary_labels[:5])"
   ]
  },
  {
   "cell_type": "code",
   "execution_count": 24,
   "id": "b0b4d6af",
   "metadata": {},
   "outputs": [
    {
     "data": {
      "text/plain": [
       "LinearSVC(C=1, loss='hinge', random_state=42)"
      ]
     },
     "execution_count": 24,
     "metadata": {},
     "output_type": "execute_result"
    }
   ],
   "source": [
    "from sklearn.svm import LinearSVC\n",
    "svm_clf1 = LinearSVC(C=1, loss=\"hinge\", random_state=42)\n",
    "svm_clf1.fit(ckd_train_data_prepared, ckd_train_data_binary_labels)"
   ]
  },
  {
   "cell_type": "code",
   "execution_count": 26,
   "id": "d4c09131",
   "metadata": {},
   "outputs": [
    {
     "data": {
      "text/plain": [
       "SVC(C=1, kernel='linear')"
      ]
     },
     "execution_count": 26,
     "metadata": {},
     "output_type": "execute_result"
    }
   ],
   "source": [
    "from sklearn.svm import SVC\n",
    "rbf_kernel_svm_clf = SVC(kernel=\"rbf\", gamma=5, C=0.001)\n",
    "rbf_kernel_svm_clf.fit(ckd_train_data_prepared, ckd_train_data_binary_labels)\n",
    "\n",
    "svm_clf1 = SVC(kernel=\"linear\", C=1)\n",
    "svm_clf1.fit(ckd_train_data_prepared, ckd_train_data_binary_labels)"
   ]
  },
  {
   "cell_type": "code",
   "execution_count": 28,
   "id": "565c4b40",
   "metadata": {},
   "outputs": [
    {
     "data": {
      "text/plain": [
       "RandomForestClassifier(max_leaf_nodes=16, n_estimators=500, n_jobs=-1)"
      ]
     },
     "execution_count": 28,
     "metadata": {},
     "output_type": "execute_result"
    }
   ],
   "source": [
    "from sklearn.ensemble import RandomForestClassifier\n",
    "rnd_clf = RandomForestClassifier(n_estimators=500, max_leaf_nodes=16, n_jobs=-1)\n",
    "rnd_clf.fit(ckd_train_data_prepared, ckd_train_data_binary_labels)"
   ]
  },
  {
   "cell_type": "code",
   "execution_count": 29,
   "id": "e75b1413",
   "metadata": {},
   "outputs": [],
   "source": [
    "# Lets evaluate the cross validation to compare the models performance on this\n",
    "# binary classification problem. \n",
    "from sklearn.model_selection import cross_val_predict\n",
    "ckd_train_data_LSVC_predictions = cross_val_predict(svm_clf1, ckd_train_data_prepared, ckd_train_data_binary_labels, cv=3)\n",
    "ckd_train_data_rbf_kernel_SVM_predictions = cross_val_predict(rbf_kernel_svm_clf, ckd_train_data_prepared, ckd_train_data_binary_labels, cv=3)\n",
    "ckd_train_data_RF_predictions = cross_val_predict(rnd_clf, ckd_train_data_prepared, ckd_train_data_binary_labels, cv=3)"
   ]
  },
  {
   "cell_type": "code",
   "execution_count": 30,
   "id": "83f0b076",
   "metadata": {},
   "outputs": [
    {
     "data": {
      "text/plain": [
       "array([[121,   1],\n",
       "       [  3, 195]])"
      ]
     },
     "execution_count": 30,
     "metadata": {},
     "output_type": "execute_result"
    }
   ],
   "source": [
    "# Comparing the confusion matrix of the 3 algorithm options\n",
    "from sklearn.metrics import confusion_matrix\n",
    "confusion_matrix(ckd_train_data_binary_labels, ckd_train_data_LSVC_predictions)"
   ]
  },
  {
   "cell_type": "code",
   "execution_count": 31,
   "id": "3e6a21f4",
   "metadata": {},
   "outputs": [
    {
     "data": {
      "text/plain": [
       "array([[  0, 122],\n",
       "       [  0, 198]])"
      ]
     },
     "execution_count": 31,
     "metadata": {},
     "output_type": "execute_result"
    }
   ],
   "source": [
    "confusion_matrix(ckd_train_data_binary_labels, ckd_train_data_rbf_kernel_SVM_predictions)"
   ]
  },
  {
   "cell_type": "code",
   "execution_count": 38,
   "id": "b656592c",
   "metadata": {},
   "outputs": [
    {
     "data": {
      "text/plain": [
       "array([[120,   2],\n",
       "       [  0, 198]])"
      ]
     },
     "execution_count": 38,
     "metadata": {},
     "output_type": "execute_result"
    }
   ],
   "source": [
    "confusion_matrix(ckd_train_data_binary_labels, ckd_train_data_RF_predictions)"
   ]
  },
  {
   "cell_type": "code",
   "execution_count": 54,
   "id": "e513971a",
   "metadata": {},
   "outputs": [
    {
     "data": {
      "text/plain": [
       "0.9898477157360407"
      ]
     },
     "execution_count": 54,
     "metadata": {},
     "output_type": "execute_result"
    }
   ],
   "source": [
    "from sklearn.metrics import f1_score\n",
    "f1_score(ckd_train_data_binary_labels, ckd_train_data_LSVC_predictions)"
   ]
  },
  {
   "cell_type": "code",
   "execution_count": 55,
   "id": "8c6945c6",
   "metadata": {},
   "outputs": [
    {
     "data": {
      "text/plain": [
       "0.7644787644787645"
      ]
     },
     "execution_count": 55,
     "metadata": {},
     "output_type": "execute_result"
    }
   ],
   "source": [
    "f1_score(ckd_train_data_binary_labels, ckd_train_data_rbf_kernel_SVM_predictions)"
   ]
  },
  {
   "cell_type": "code",
   "execution_count": 56,
   "id": "058e918f",
   "metadata": {},
   "outputs": [
    {
     "data": {
      "text/plain": [
       "0.9949748743718593"
      ]
     },
     "execution_count": 56,
     "metadata": {},
     "output_type": "execute_result"
    }
   ],
   "source": [
    "f1_score(ckd_train_data_binary_labels, ckd_train_data_RF_predictions)"
   ]
  },
  {
   "cell_type": "code",
   "execution_count": 39,
   "id": "714d6788",
   "metadata": {},
   "outputs": [],
   "source": [
    "#Prepare the test data\n",
    "for Columns in ['rbc','pc', 'pcc', 'ba', 'htn', 'dm', 'cad', 'appet', 'pe', 'ane']:\n",
    "    impute_nan_add_variable(ckd_test_data,Columns)"
   ]
  },
  {
   "cell_type": "code",
   "execution_count": 73,
   "id": "21e76107",
   "metadata": {},
   "outputs": [],
   "source": [
    "# Execute the pipeline on the test data\n",
    "ckd_test_data_prepared = full_pipeline.fit_transform(ckd_test_data)"
   ]
  },
  {
   "cell_type": "code",
   "execution_count": 74,
   "id": "b2f1900a",
   "metadata": {},
   "outputs": [],
   "source": [
    "# Prediction using the Linear SVC\n",
    "ckd_test_data_Linear_SVC_predictions = svm_clf1.predict(ckd_test_data_prepared)"
   ]
  },
  {
   "cell_type": "code",
   "execution_count": 84,
   "id": "155bded1",
   "metadata": {},
   "outputs": [],
   "source": [
    "# Prediction using the RBF Kernel SVM\n",
    "ckd_test_data_rbf_kernel_SVM_predictions = rbf_kernel_svm_clf.predict(ckd_test_data_prepared)"
   ]
  },
  {
   "cell_type": "code",
   "execution_count": 85,
   "id": "8773c625",
   "metadata": {},
   "outputs": [],
   "source": [
    "# Predictions using Random Forest Classifier\n",
    "ckd_test_data_RF_predictions = rnd_clf.predict(ckd_test_data_prepared)"
   ]
  },
  {
   "cell_type": "code",
   "execution_count": 86,
   "id": "af282d39",
   "metadata": {},
   "outputs": [
    {
     "data": {
      "text/plain": [
       "array([ True, False,  True,  True,  True,  True, False,  True, False,\n",
       "        True,  True, False,  True,  True,  True,  True, False, False,\n",
       "        True, False,  True,  True, False, False,  True, False,  True,\n",
       "        True, False,  True, False,  True, False,  True,  True,  True,\n",
       "        True, False,  True,  True, False,  True,  True,  True,  True,\n",
       "       False,  True,  True,  True,  True,  True, False, False,  True,\n",
       "       False,  True,  True,  True,  True,  True,  True, False, False,\n",
       "        True,  True,  True, False, False, False,  True, False,  True,\n",
       "        True,  True, False,  True,  True, False,  True, False])"
      ]
     },
     "execution_count": 86,
     "metadata": {},
     "output_type": "execute_result"
    }
   ],
   "source": [
    "ckd_test_data_RF_predictions"
   ]
  },
  {
   "cell_type": "code",
   "execution_count": 87,
   "id": "df861c8e",
   "metadata": {},
   "outputs": [
    {
     "data": {
      "text/plain": [
       "array([[28,  0],\n",
       "       [ 0, 52]])"
      ]
     },
     "execution_count": 87,
     "metadata": {},
     "output_type": "execute_result"
    }
   ],
   "source": [
    "# Test predictions metrics\n",
    "ckd_test_data_binary_labels = (ckd_test_data_label == 'ckd')"
   ]
  },
  {
   "cell_type": "code",
   "execution_count": 88,
   "id": "5b2db52a",
   "metadata": {},
   "outputs": [
    {
     "data": {
      "text/plain": [
       "array([[27,  1],\n",
       "       [ 0, 52]])"
      ]
     },
     "execution_count": 88,
     "metadata": {},
     "output_type": "execute_result"
    }
   ],
   "source": [
    "# Confusion matrix of Linear SVC predictions\n",
    "confusion_matrix(ckd_test_data_binary_labels, ckd_test_data_Linear_SVC_predictions)"
   ]
  },
  {
   "cell_type": "code",
   "execution_count": 89,
   "id": "3e2ee60f",
   "metadata": {},
   "outputs": [
    {
     "data": {
      "text/plain": [
       "0.9904761904761905"
      ]
     },
     "execution_count": 89,
     "metadata": {},
     "output_type": "execute_result"
    }
   ],
   "source": [
    "f1_score(ckd_test_data_binary_labels, ckd_test_data_Linear_SVC_predictions)"
   ]
  },
  {
   "cell_type": "code",
   "execution_count": 90,
   "id": "5fbdb540",
   "metadata": {},
   "outputs": [
    {
     "data": {
      "text/plain": [
       "array([[ 0, 28],\n",
       "       [ 0, 52]])"
      ]
     },
     "execution_count": 90,
     "metadata": {},
     "output_type": "execute_result"
    }
   ],
   "source": [
    "# Confusion matrix of RBF Kernel predictions\n",
    "confusion_matrix(ckd_test_data_binary_labels, ckd_test_data_rbf_kernel_SVM_predictions)"
   ]
  },
  {
   "cell_type": "code",
   "execution_count": 91,
   "id": "45549f76",
   "metadata": {},
   "outputs": [
    {
     "data": {
      "text/plain": [
       "0.787878787878788"
      ]
     },
     "execution_count": 91,
     "metadata": {},
     "output_type": "execute_result"
    }
   ],
   "source": [
    "f1_score(ckd_test_data_binary_labels, ckd_test_data_rbf_kernel_SVM_predictions)"
   ]
  },
  {
   "cell_type": "code",
   "execution_count": 92,
   "id": "15596d91",
   "metadata": {},
   "outputs": [
    {
     "data": {
      "text/plain": [
       "array([[28,  0],\n",
       "       [ 0, 52]])"
      ]
     },
     "execution_count": 92,
     "metadata": {},
     "output_type": "execute_result"
    }
   ],
   "source": [
    "# Confusion matrix of Random Forest predictions\n",
    "confusion_matrix(ckd_test_data_binary_labels, ckd_test_data_RF_predictions)"
   ]
  },
  {
   "cell_type": "code",
   "execution_count": 82,
   "id": "8e9a34c6",
   "metadata": {},
   "outputs": [
    {
     "data": {
      "text/plain": [
       "1.0"
      ]
     },
     "execution_count": 82,
     "metadata": {},
     "output_type": "execute_result"
    }
   ],
   "source": [
    "f1_score(ckd_test_data_binary_labels, ckd_test_data_RF_predictions)"
   ]
  }
 ],
 "metadata": {
  "kernelspec": {
   "display_name": "Python 3",
   "language": "python",
   "name": "python3"
  },
  "language_info": {
   "codemirror_mode": {
    "name": "ipython",
    "version": 3
   },
   "file_extension": ".py",
   "mimetype": "text/x-python",
   "name": "python",
   "nbconvert_exporter": "python",
   "pygments_lexer": "ipython3",
   "version": "3.8.8"
  }
 },
 "nbformat": 4,
 "nbformat_minor": 5
}
