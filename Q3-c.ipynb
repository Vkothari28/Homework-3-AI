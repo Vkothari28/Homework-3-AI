{
 "cells": [
  {
   "cell_type": "code",
   "execution_count": null,
   "id": "df466161",
   "metadata": {},
   "outputs": [],
   "source": [
    "from sklearn.cluster import AffinityPropagation\n",
    "import numpy as np\n",
    "import pandas as pd\n",
    "from sklearn.datasets import load_digits\n",
    "from sklearn.metrics import confusion_matrix\n",
    "from sklearn import metrics"
   ]
  },
  {
   "cell_type": "code",
   "execution_count": null,
   "id": "31e1f95f",
   "metadata": {},
   "outputs": [],
   "source": [
    "X, y = load_digits(return_X_y=True)"
   ]
  },
  {
   "cell_type": "code",
   "execution_count": null,
   "id": "ab35bc31",
   "metadata": {},
   "outputs": [],
   "source": [
    "af = AffinityPropagation(convergence_iter=10, preference = -50000, damping=0.9 , random_state=0) .fit(X)"
   ]
  },
  {
   "cell_type": "code",
   "execution_count": null,
   "id": "8685de90",
   "metadata": {},
   "outputs": [],
   "source": [
    "cluster_centers_indices = af.cluster_centers_indices_\n",
    "labels = af.labels_\n",
    "print(labels)"
   ]
  },
  {
   "cell_type": "code",
   "execution_count": null,
   "id": "80035ced",
   "metadata": {},
   "outputs": [],
   "source": [
    "n_clusters_ = len(cluster_centers_indices)\n",
    "print(\"Estimated number of clusters: %d\" % n_clusters_)"
   ]
  },
  {
   "cell_type": "code",
   "execution_count": null,
   "id": "c3dfbeab",
   "metadata": {},
   "outputs": [],
   "source": [
    "confusion_matrix = confusion_matrix(y, labels)\n",
    "print(confusion_matrix)"
   ]
  },
  {
   "cell_type": "code",
   "execution_count": 48,
   "id": "96e7333a",
   "metadata": {},
   "outputs": [
    {
     "name": "stdout",
     "output_type": "stream",
     "text": [
      "Fowlkes-Mallows score:  0.685334082194355\n"
     ]
    }
   ],
   "source": [
    "FM_score = metrics.fowlkes_mallows_score(y, labels)\n",
    "print(\"Fowlkes-Mallows score: \", FM_score)"
   ]
  },
  {
   "cell_type": "code",
   "execution_count": 36,
   "id": "0a57c996",
   "metadata": {},
   "outputs": [
    {
     "name": "stdout",
     "output_type": "stream",
     "text": [
      "64\n"
     ]
    },
    {
     "data": {
      "image/png": "[encoded data removed]",
      "text/plain": [
       "<Figure size 432x288 with 1 Axes>"
      ]
     },
     "metadata": {
      "needs_background": "light"
     },
     "output_type": "display_data"
    }
   ],
   "source": [
    "# Plot result\n",
    "import matplotlib.pyplot as plt\n",
    "from itertools import cycle\n",
    "\n",
    "plt.close(\"all\")\n",
    "plt.figure(1)\n",
    "plt.clf()\n",
    "\n",
    "colors = cycle(\"bgrcmykbgrcmykbgrcmykbgrcmyk\")\n",
    "for k, col in zip(range(n_clusters_), colors):\n",
    "    class_members = labels == k\n",
    "    cluster_center = X[cluster_centers_indices[k]]\n",
    "\n",
    "    plt.plot(X[class_members, 0], X[class_members, 1], col + \".\")\n",
    "    plt.plot(\n",
    "        cluster_center[0],\n",
    "        cluster_center[1],\n",
    "        \"o\",\n",
    "        markerfacecolor=col,\n",
    "        markeredgecolor=\"k\",\n",
    "        markersize=14,\n",
    "    )\n",
    "    for x in X[class_members]:\n",
    "        plt.plot([cluster_center[0], x[0]], [cluster_center[1], x[1]], col)\n",
    "\n",
    "plt.title(\"Estimated number of clusters: %d\" % n_clusters_)\n",
    "plt.show()"
   ]
  },
  {
   "cell_type": "code",
   "execution_count": null,
   "id": "d9562331",
   "metadata": {},
   "outputs": [],
   "source": [
    "from scipy import ndimage\n",
    "from sklearn import manifold\n",
    "\n",
    "def n_images(X, y):\n",
    "    shift_image = lambda x: ndimage.shift(\n",
    "        x.reshape((8, 8)), 0.3 * np.random.normal(size=2), mode=\"constant\"\n",
    "    ).ravel()\n",
    "    X = np.concatenate([X, np.apply_along_axis(shift_image, 1, X)])\n",
    "    Y = np.concatenate([y, y], axis=0)\n",
    "    return X, Y\n",
    "\n",
    "\n",
    "np.random.seed(0)\n",
    "\n",
    "\n",
    "X, y = n_images(X, y)\n",
    "\n",
    "\n",
    "def plot_clustering(X_r, labels, title=None):\n",
    "    x_min, x_max = np.min(X_r, axis=0), np.max(X_r, axis=0)\n",
    "    X_r = (X_r - x_min) / (x_max - x_min)\n",
    "\n",
    "    plt.figure(figsize=(6, 4))\n",
    "    for i in range(X_r.shape[0]):\n",
    "        plt.text(\n",
    "            X_r[i, 0],\n",
    "            X_r[i, 1],\n",
    "            str(y[i]),\n",
    "            color=plt.cm.nipy_spectral(labels[i] / 10.0),\n",
    "            fontdict={\"weight\": \"bold\", \"size\": 9},\n",
    "        )\n",
    "\n",
    "    plt.xticks([])\n",
    "    plt.yticks([])\n",
    "    if title is not None:\n",
    "        plt.title(title, size=17)\n",
    "    plt.axis(\"off\")\n",
    "    plt.tight_layout(rect=[0, 0.03, 1, 0.95])\n",
    "\n",
    "\n",
    "X_r = manifold.SpectralEmbedding(n_components=2).fit_transform(X)\n",
    "\n",
    "\n",
    "af = AffinityPropagation(convergence_iter=10, preference = -50000, damping=0.9 , random_state=0) .fit(X_r)\n",
    "\n",
    "\n",
    "\n",
    "plot_clustering(X_r, af.labels_)\n",
    "\n",
    "plt.show()"
   ]
  },
  {
   "cell_type": "code",
   "execution_count": null,
   "id": "d6888682",
   "metadata": {},
   "outputs": [],
   "source": []
  }
 ],
 "metadata": {
  "kernelspec": {
   "display_name": "Python 3 (ipykernel)",
   "language": "python",
   "name": "python3"
  },
  "language_info": {
   "codemirror_mode": {
    "name": "ipython",
    "version": 3
   },
   "file_extension": ".py",
   "mimetype": "text/x-python",
   "name": "python",
   "nbconvert_exporter": "python",
   "pygments_lexer": "ipython3",
   "version": "3.9.7"
  }
 },
 "nbformat": 4,
 "nbformat_minor": 5
}
